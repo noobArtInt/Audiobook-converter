{
  "nbformat": 4,
  "nbformat_minor": 0,
  "metadata": {
    "colab": {
      "name": "Pdf_to_audiobook.ipynb",
      "provenance": [],
      "collapsed_sections": [],
      "authorship_tag": "ABX9TyPOIQgBRTXyQhgwRryqoLmy",
      "include_colab_link": true
    },
    "kernelspec": {
      "name": "python3",
      "display_name": "Python 3"
    }
  },
  "cells": [
    {
      "cell_type": "markdown",
      "metadata": {
        "id": "view-in-github",
        "colab_type": "text"
      },
      "source": [
        "<a href=\"https://colab.research.google.com/github/noobArtInt/Audiobook-converter/blob/main/Pdf_to_audiobook.ipynb\" target=\"_parent\"><img src=\"https://colab.research.google.com/assets/colab-badge.svg\" alt=\"Open In Colab\"/></a>"
      ]
    },
    {
      "cell_type": "code",
      "metadata": {
        "id": "SBQan-o8hBL5"
      },
      "source": [
        "import PyPDF2 \n",
        "import pyttsx3\n",
        "from googletrans import Translator"
      ],
      "execution_count": null,
      "outputs": []
    },
    {
      "cell_type": "code",
      "metadata": {
        "id": "yLB7Bpg7k-Ix"
      },
      "source": [
        "translator = Translator()\n",
        "engine = pyttsx3.init()"
      ],
      "execution_count": null,
      "outputs": []
    },
    {
      "cell_type": "code",
      "metadata": {
        "id": "X-pIYnoGhOYu"
      },
      "source": [
        "translator = Translator()\n",
        "\n",
        "# Enter pdf path here\n",
        "pdf_name = '/content/Artificial Intelligence By Example- Develop machine intelligence from scratch using real artificial intelligence use cases ( PDFDrive.com ).pdf'\n",
        "\n",
        "pdfFileObj = open(pdf_name, 'rb') \n",
        "\n",
        "\n",
        "# creating a pdf reader object \n",
        "pdfReader = PyPDF2.PdfFileReader(pdfFileObj) \n",
        "\n",
        "# printing number of pages in pdf file \n",
        "text = ''\n",
        "print('Number of pages are: ',pdfReader.numPages) \n",
        "for page in range(pdfReader.numPages):\n",
        "\tpageObj = pdfReader.getPage(page)\n",
        "\ttext += pageObj.extractText()\n",
        "text = text.replace('\\n', '')\n",
        "text = text.replace('.', '.\\n')\n",
        "\n",
        "print(text)\n",
        "\n",
        "#translations = translator.translate(text, dest='ja')\n",
        "#print(translations) \n",
        "\n",
        "#engine.say(pageObj.extractText())\n",
        "# closing the pdf file object \n",
        "\n",
        "#engine.runAndWait()\n",
        "pdfFileObj.close() \n",
        "\n",
        "# Block to save in mp3 file\n",
        "engine.save_to_file('Hello World', '/content/test.mp3')"
      ],
      "execution_count": null,
      "outputs": []
    }
  ]
}